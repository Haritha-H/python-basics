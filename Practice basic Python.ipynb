{
 "cells": [
  {
   "cell_type": "code",
   "execution_count": 42,
   "metadata": {},
   "outputs": [
    {
     "name": "stdout",
     "output_type": "stream",
     "text": [
      "Data type of a: <class 'int'>\n",
      "Data type of b: <class 'float'>\n",
      "Data type of c: <class 'bool'>\n"
     ]
    }
   ],
   "source": [
    "#Program to demonstrate different number data types in python\n",
    "a = 10\n",
    "b = 13.67\n",
    "c = True\n",
    "print(\"Data type of a:\",type(a))\n",
    "print(\"Data type of b:\",type(b))\n",
    "print(\"Data type of c:\",type(c))"
   ]
  },
  {
   "cell_type": "code",
   "execution_count": 43,
   "metadata": {},
   "outputs": [
    {
     "name": "stdout",
     "output_type": "stream",
     "text": [
      "Enter a:2\n",
      "Enter b:3\n",
      "Addition: 5\n",
      "Subtraction: -1\n",
      "Multiplication 6\n",
      "Division 0.6666666666666666\n",
      "Remainder 2\n",
      "Floor Division 0\n",
      "Exponent 8\n"
     ]
    }
   ],
   "source": [
    "\n",
    "#Perform different arithmetic operations\n",
    "a = int(input(\"Enter a:\")) #input() returns string by default so convert to int\n",
    "b = int(input(\"Enter b:\"))\n",
    "print(\"Addition:\",a+b)\n",
    "print(\"Subtraction:\",a-b)\n",
    "print(\"Multiplication\",a*b)\n",
    "print(\"Division\",a/b)\n",
    "print(\"Remainder\",a%b)\n",
    "print(\"Floor Division\",a//b) # rgoodeturns only int (Divident, for eg. returns 4 for 101//25)\n",
    "print(\"Exponent\",a**b)"
   ]
  },
  {
   "cell_type": "code",
   "execution_count": 44,
   "metadata": {},
   "outputs": [
    {
     "name": "stdout",
     "output_type": "stream",
     "text": [
      "Enter String a:gh\n",
      "Enter String b:gh\n",
      "Concatenation of gh and gh is ghgh\n",
      "Substring of c: ghgh\n"
     ]
    }
   ],
   "source": [
    "#Program to create, concatenate and print a string and accessing sub-string from a given string\n",
    "a = input(\"Enter String a:\")\n",
    "b = input(\"Enter String b:\")\n",
    "c = a+b\n",
    "print(\"Concatenation of %s and %s is %s\"%(a,b,c))\n",
    "print(\"Substring of c:\",c[0:8])"
   ]
  },
  {
   "cell_type": "code",
   "execution_count": 45,
   "metadata": {},
   "outputs": [
    {
     "name": "stdout",
     "output_type": "stream",
     "text": [
      "Wed Aug 04 15:18:13 CEST 2021\n"
     ]
    }
   ],
   "source": [
    "#a python script to print the current date in the following format\n",
    "#“Sun May 29 02:26:23 IST 2017\n",
    "import time\n",
    "\n",
    "now = time.localtime()\n",
    "print(time.strftime(\"%a %b %d %H:%M:%S %Z %Y\",now))"
   ]
  },
  {
   "cell_type": "code",
   "execution_count": 46,
   "metadata": {},
   "outputs": [
    {
     "name": "stdout",
     "output_type": "stream",
     "text": [
      "[4, 5, 6]\n",
      "[4, 5, 6, 25, 23, 25, 67]\n",
      "[25, 23, 25, 67]\n",
      "[23, 25, 67]\n",
      "[25]\n"
     ]
    }
   ],
   "source": [
    "#Program to create, append, and remove lists in python\n",
    "a = [4,5,6]\n",
    "print(a)\n",
    "a.append(25)\n",
    "a.extend([23,25,67])\n",
    "print(a)\n",
    "del a[0]\n",
    "del a[0:2]\n",
    "print(a)\n",
    "a.remove(25) # removes only the first instance if it is present multiple times\n",
    "print(a)\n",
    "a.pop() # pops last element\n",
    "a.pop(0) #deletes the element present in the index\n",
    "print(a)"
   ]
  },
  {
   "cell_type": "code",
   "execution_count": 47,
   "metadata": {},
   "outputs": [
    {
     "name": "stdout",
     "output_type": "stream",
     "text": [
      "<class 'tuple'>\n",
      "<class 'tuple'>\n",
      "<class 'tuple'>\n",
      "3 2 1\n"
     ]
    }
   ],
   "source": [
    "#Working with tuples\n",
    "a = (\"hello\",) #without comma it will be taken as string\n",
    "b = (1,2,3,[4,5])\n",
    "c = 1,2,3 # even without parenthesis it is a tuple\n",
    "#unpacking tuples\n",
    "x,y,z = c\n",
    "print(type(a))\n",
    "print(type(b))\n",
    "print(type(c))\n",
    "print(z,y,x)"
   ]
  },
  {
   "cell_type": "code",
   "execution_count": 48,
   "metadata": {},
   "outputs": [
    {
     "name": "stdout",
     "output_type": "stream",
     "text": [
      "<class 'dict'>\n",
      "<class 'dict'>\n",
      "Rahman\n",
      "{'Name': 'Rahman', 'Age': '28', 'Address': 'My Heart'}\n"
     ]
    }
   ],
   "source": [
    "#Working with dictionaries\n",
    "a = {'Name': 'Rahman', 'Age': '28'}\n",
    "b = dict({'Name': 'Rahman', 'Age': '28'})\n",
    "print(type(a))\n",
    "print(type(b))\n",
    "print(a['Name'])\n",
    "a['Address'] = 'My Heart'\n",
    "print(a)"
   ]
  },
  {
   "cell_type": "code",
   "execution_count": 49,
   "metadata": {},
   "outputs": [
    {
     "name": "stdout",
     "output_type": "stream",
     "text": [
      "Enter a:44\n",
      "Enter b:55\n",
      "Enter c:66\n",
      " 66.00 is greater\n"
     ]
    }
   ],
   "source": [
    "#Program to find largest of three numbers\n",
    "a = float(input(\"Enter a:\"))\n",
    "b = float(input(\"Enter b:\"))\n",
    "c = float(input(\"Enter c:\"))\n",
    "if a>b and a>c:\n",
    "    largest = a\n",
    "elif b>a and b>c:\n",
    "    largest = b\n",
    "else:\n",
    "    largest = c\n",
    "print(\"% .2f is greater\" %(largest))"
   ]
  },
  {
   "cell_type": "code",
   "execution_count": null,
   "metadata": {},
   "outputs": [],
   "source": []
  }
 ],
 "metadata": {
  "kernelspec": {
   "display_name": "Python 3",
   "language": "python",
   "name": "python3"
  },
  "language_info": {
   "codemirror_mode": {
    "name": "ipython",
    "version": 3
   },
   "file_extension": ".py",
   "mimetype": "text/x-python",
   "name": "python",
   "nbconvert_exporter": "python",
   "pygments_lexer": "ipython3",
   "version": "3.8.3"
  }
 },
 "nbformat": 4,
 "nbformat_minor": 4
}
